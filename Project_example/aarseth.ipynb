{
 "cells": [
  {
   "cell_type": "markdown",
   "id": "0b0acc08-6ce4-4c7a-abec-966e5abdf370",
   "metadata": {},
   "source": [
    "# NEMO (PHYS265)\n",
    "\n",
    "The NEMO package is introduced here, with a focus on using the Aarseth N-body codes. This notebook was written as an example for the 2025 PHYS265 final project.\n",
    "\n",
    "Note this is not a python project, so it cannot qualify for your final project. It's merely used to illustrate what could go into the report, and in this example the notebook showing some code examples how to work with the Aarseth codes in NEMO.\n",
    "\n",
    "The [AMUSE](https://www.amusecode.org/) project actually does have a python interface to `nbody6xx`, one of the more advanced versions of the Aarseth code series. NEMO is using `bash` instead, so again, it does not qualify for PHYS265.\n",
    "\n",
    "## The Aarseth NBODY family of codes \n",
    "\n",
    "The N-body problem solves the time integration of N interacting particles, where the accelleration on particle $i$ is given by the contributions of all $j\\not = i$ particles:\n",
    "\n",
    "$$\n",
    "   \\ddot{ {\\bf r}}_i \\, = \\, -G \\sum_{j=1;\\, j \\not = \\,i}^N {m_j \\,({\\bf r}_i - {\\bf r}_j)  \\over {(r_{ij}^2 + \\epsilon^2)^{3/2} } }\n",
    "$$\n",
    "\n",
    "One of the early practicioners of N-body codes was Sverre Aarseth,  who has always made his N-body codes available for anybody to use and modify to suite their own needs. His current body of work can still be found at https://people.ast.cam.ac.uk/~sverre/web/pages/nbody.htm  as well as an [entry in ASCL](https://ascl.net/1102.006).\n",
    "A few of these exist in NEMO.\n",
    "We list a few of the programs available here, and will try them out:\n",
    "\n",
    "* [nbody0, nbody00](https://teuben.github.io/nemo/man_html/nbody0.1.html) - version from Binney & Tremaine's \"Galactic Dynamics\" (1987) book\n",
    "* [nbody1](https://teuben.github.io/nemo/man_html/nbody1.1.html), [runbody1](https://teuben.github.io/nemo/man_html/runbody1.1.html) - integrator with variable timestep\n",
    "* nbody2, runbody2 - Ahmad-Cohen N-body code\n",
    "* nbody4, runbody4 - hermite N-body code with optional stellar evolution\n",
    "* nbody6xx - Regularized AC N-body code with triple & binary collisions\n",
    "* [firstn](https://teuben.github.io/nemo/man_html/firstn.1.html) -  von Hoerners first N-body code (1960)  \n",
    "* [mkplummer](https://teuben.github.io/nemo/man_html/mkplummer.1.html)  - create a Plummer (1911) N-Body sphere. Algorithm by [Aarseth, Henon and Wielen (1974)](https://ui.adsabs.harvard.edu/abs/1974A%26A....37..183A)\n",
    "* Sverre's 1999 paper [\"From NBODY1 to NBODY6: The Growth of an Industry\"](https://ui.adsabs.harvard.edu/abs/1999PASP..111.1333A) \n",
    "outlines the history behind this series.\n",
    "\n",
    "# Loading NEMO\n",
    "\n",
    "We start by loading NEMO in the Unix shell, `bash` in this case.\n",
    "\n",
    "As a sanity check we first look to see if $NEMO exist. It should not, unless your shell defined NEMO already."
   ]
  },
  {
   "cell_type": "code",
   "execution_count": 1,
   "id": "66e47a6d-0b94-441e-8807-c96e623bda51",
   "metadata": {},
   "outputs": [
    {
     "name": "stdout",
     "output_type": "stream",
     "text": [
      "NEMO=\n"
     ]
    }
   ],
   "source": [
    "# check to see if NEMO exists\n",
    "echo NEMO=$NEMO"
   ]
  },
  {
   "cell_type": "markdown",
   "id": "e48c81bd-b524-4723-9994-f1905b18f904",
   "metadata": {},
   "source": [
    "If $NEMO existed already, the next cell could be safely skipped, but would not do any harm."
   ]
  },
  {
   "cell_type": "code",
   "execution_count": 2,
   "id": "0febd3b4-f29f-4b33-a172-7779666b26ba",
   "metadata": {},
   "outputs": [],
   "source": [
    "# load NEMO    (your location will likely differ).\n",
    "source $HOME/NEMO/nemo/nemo_start.sh"
   ]
  },
  {
   "cell_type": "code",
   "execution_count": 3,
   "id": "e4f990a4-3b64-4ce6-87cb-263e13b5ab02",
   "metadata": {},
   "outputs": [
    {
     "name": "stdout",
     "output_type": "stream",
     "text": [
      "NEMO:        /home/teuben/NEMO/nemo  - Version:4.5.3\n",
      "YAPP:        /xs - default yapp plotting device\n",
      "git:         Branch:master     Counter:12528      Date: 2025/05/06_17:06:14\n",
      "python:      /home/teuben/NEMO/nemo/anaconda3/bin/python  - Python 3.12.4\n",
      "OS_release:  Linux Description:\tPop!_OS 22.04 LTS\n"
     ]
    }
   ],
   "source": [
    "# show NEMO and some related things with the `nemo` command\n",
    "nemo"
   ]
  },
  {
   "cell_type": "markdown",
   "id": "1fa4e12e-c27c-4dfa-b80d-e555c77225e2",
   "metadata": {},
   "source": [
    "### Plotting ?\n",
    "\n",
    "A minor nuisance of using a bash notebook instead of a python notebook is that you cannot produce the typical interactive matplotlib plots. If we compile NEMO with *yapp_pgplot*, plots can be saved in **png** format and markdown cells can load them after the cell was executed. This requires an extra step, but is still illustrative. This is the method used in this notebook."
   ]
  },
  {
   "cell_type": "markdown",
   "id": "4f6c80e3-688b-4b95-be5b-d8cbf8fb0d98",
   "metadata": {},
   "source": [
    "# nbody0\n",
    "\n",
    "This code was published in an Appendix of the 1987 (first) edition of Binney & Tremaine's *Galactic Dynamics*. The source code\n",
    "can be found in \n",
    "`$NEMO/src/nbody/evolve/aarseth/nbody0`, where several derivatives of this *Micky Mouse* (Sverre's words) version are available. We have a NEMO [manual page available for this code](https://teuben.github.io/nemo/man_html/nbody0.1.html), which you can also access from the command line with the `man nbody0` command:"
   ]
  },
  {
   "cell_type": "code",
   "execution_count": 4,
   "id": "aee511ff-a61e-4497-8111-e5ab2ea18bcd",
   "metadata": {},
   "outputs": [],
   "source": [
    "# man nbody0"
   ]
  },
  {
   "cell_type": "markdown",
   "id": "76d7e27d-c05b-47ae-8ad1-3be1597c6fc4",
   "metadata": {},
   "source": [
    "### Creating initial conditions\n",
    "\n",
    "By default the FORTRAN code is compiled with memory for a maximum of 2048 particles (it's FORTRAN!). We thus create a Plummer (1911) sphere with 2048 particles. We fix the seed to have reproducible results, and integrate a few crossing times to keep the CPU loaded for a few seconds.\n",
    "\n",
    "We first create the initial conditions [mkplummer](https://teuben.github.io/nemo/man_html/mkplummer.1.html), and view them with the\n",
    "[tsf](https://teuben.github.io/nemo/man_html/tsf.1.html) program:"
   ]
  },
  {
   "cell_type": "code",
   "execution_count": 5,
   "id": "47a0a006-b7ac-4c9e-88c3-64e9f99a5f62",
   "metadata": {},
   "outputs": [
    {
     "name": "stdout",
     "output_type": "stream",
     "text": [
      "char Headline[28] \"init_xrandom: seed used 123\"\n",
      "char History[43] \"mkplummer p2048 2048 seed=123 VERSION=3.0c\"\n",
      "set SnapShot\n",
      "  set Parameters\n",
      "    int Nobj 2048 \n",
      "    double Time 0.00000 \n",
      "  tes\n",
      "  set Particles\n",
      "    int CoordSystem 66306 \n",
      "    double Mass[2048] 0.000488281 0.000488281 0.000488281 0.000488281 \n",
      "      0.000488281 0.000488281 0.000488281 0.000488281 0.000488281 \n",
      "      0.000488281 0.000488281 0.000488281 0.000488281 0.000488281 \n",
      "      0.000488281 0.000488281 0.000488281 0.000488281 0.000488281 \n",
      "      . . .\n",
      "    double PhaseSpace[2048][2][3] -0.570453 -0.0544111 -0.627691 \n",
      "      -0.0761437 -0.0984996 0.337867 4.84828 -0.318906 -1.70248 \n",
      "      0.419009 0.228663 0.171499 0.584347 0.246823 -0.113503 0.0872366 \n",
      "      0.00176906 -0.340730 0.416242 -0.0460422 -0.188560 -0.739448 \n",
      "      . . .\n",
      "  tes\n",
      "tes\n"
     ]
    }
   ],
   "source": [
    "rm -f p2048\n",
    "mkplummer p2048 2048 seed=123\n",
    "tsf p2048"
   ]
  },
  {
   "cell_type": "code",
   "execution_count": 6,
   "id": "a9264cac-cf6f-422a-915d-e3391082a107",
   "metadata": {},
   "outputs": [],
   "source": [
    "snapplot p2048 yapp=aarseth_fig1.png/png"
   ]
  },
  {
   "cell_type": "markdown",
   "id": "8105513a-e3c9-4b52-9adf-96540eeec84e",
   "metadata": {},
   "source": [
    "Plot of a Plummer sphere with 2048 particles, created with the \n",
    "[snapplot](https://teuben.github.io/nemo/man_html/snapplot.1.html) program.\n",
    "\n",
    "![p2048](aarseth_fig1.png)"
   ]
  },
  {
   "cell_type": "markdown",
   "id": "06ff1c6d-5a36-4182-9624-95e7ba744193",
   "metadata": {},
   "source": [
    "### Comparing FORTRAN and C versions\n",
    "\n",
    "We first compare the performance of the FORTRAN and C versions of *nbody0*. We use **out=.** to not have to write an output file, perhaps saving some overhead. Using a *dot* for a filename is a NEMO feature.\n",
    "The default integration time **tcrit=2** is used, and a total of 161,238 (variable) integration steps will be taken. A typical CPU time will be 2 seconds."
   ]
  },
  {
   "cell_type": "code",
   "execution_count": 7,
   "id": "c9609d60-5891-4cb0-a239-0c6972cbbae2",
   "metadata": {
    "scrolled": true
   },
   "outputs": [
    {
     "name": "stdout",
     "output_type": "stream",
     "text": [
      "### nemo Debug Info: time = 0   steps = 0   energy = -0.244373 cpu =    0.00117 min\n",
      "### nemo Debug Info: time = 0.25   steps = 19181   energy = -0.244375 cpu =    0.00467 min\n",
      "### nemo Debug Info: time = 0.5   steps = 39859   energy = -0.244383 cpu =     0.0085 min\n",
      "### nemo Debug Info: time = 0.75   steps = 60485   energy = -0.244384 cpu =     0.0123 min\n",
      "### nemo Debug Info: time = 1   steps = 80889   energy = -0.244386 cpu =      0.016 min\n",
      "### nemo Debug Info: time = 1.25   steps = 100950   energy = -0.244386 cpu =     0.0197 min\n",
      "### nemo Debug Info: time = 1.5   steps = 121284   energy = -0.244389 cpu =     0.0235 min\n",
      "### nemo Debug Info: time = 1.75   steps = 141176   energy = -0.244396 cpu =      0.027 min\n",
      "### nemo Debug Info: time = 2   steps = 161238   energy = -0.244397 cpu =     0.0307 min\n",
      "1.84user 0.00system 0:01.84elapsed 99%CPU (0avgtext+0avgdata 2680maxresident)k\n",
      "0inputs+0outputs (0major+333minor)pagefaults 0swaps\n",
      "### nemo Debug Info: time = 0   steps = 0   energy = -0.244373 cpu =    0.00133 min\n",
      "### nemo Debug Info: time = 0.25   steps = 19181   energy = -0.244375 cpu =     0.0055 min\n",
      "### nemo Debug Info: time = 0.5   steps = 39859   energy = -0.244383 cpu =    0.00967 min\n",
      "### nemo Debug Info: time = 0.75   steps = 60485   energy = -0.244384 cpu =     0.0138 min\n",
      "### nemo Debug Info: time = 1   steps = 80889   energy = -0.244386 cpu =     0.0183 min\n",
      "### nemo Debug Info: time = 1.25   steps = 100950   energy = -0.244386 cpu =     0.0225 min\n",
      "### nemo Debug Info: time = 1.5   steps = 121284   energy = -0.244389 cpu =     0.0267 min\n",
      "### nemo Debug Info: time = 1.75   steps = 141176   energy = -0.244396 cpu =     0.0307 min\n",
      "### nemo Debug Info: time = 2   steps = 161238   energy = -0.244397 cpu =      0.035 min\n",
      "### nemo Debug Info: Time spent in searching for next advancement: 0.3\n",
      "### nemo Debug Info: Energy conservation: -2.47054e-05 / -0.244373 = 0.000101087\n",
      "### nemo Debug Info: Time resets needed 0 times / 9 dumps\n",
      "2.10user 0.07system 0:02.18elapsed 99%CPU (0avgtext+0avgdata 2844maxresident)k\n",
      "0inputs+0outputs (0major+333minor)pagefaults 0swaps\n"
     ]
    }
   ],
   "source": [
    "/usr/bin/time nbody0  p2048 . tcrit=2   # Fortran version\n",
    "/usr/bin/time nbody00 p2048 . tcrit=2   # C version"
   ]
  },
  {
   "cell_type": "markdown",
   "id": "86ef0f50-6344-491d-8578-a4e13c14eecc",
   "metadata": {},
   "source": [
    "### Reproducability\n",
    "\n",
    "If NEMO's random number generator is working correctly, the number of steps and energy at time=2 should be exactly\n",
    "```\n",
    "   time = 2   steps = 161238   energy = -0.244397\n",
    "```\n",
    "and although the CPU time varies per machine, my 2023 \"Ultra 7 155H\" laptop CPU took about 1.7sec for **nbody0** and 2.0sec for **nbody00**. Also notable is that the C version does use a small amount (4%) of system time, whereas FORTRAN took 0."
   ]
  },
  {
   "cell_type": "markdown",
   "id": "14849a05-f74a-49f3-b915-9cc55f9069bb",
   "metadata": {},
   "source": [
    "### nbody00_ff\n",
    "\n",
    "The previous two programs discussed versions of *nbody0* have a NEMO command line interface, and can read NEMO files.\n",
    "The original pure FORTRAN version from BT87 does not have a NEMO CLI. It reads a one line header with 6 numbers from the terminal (stdin), followed by **n** (the number of bodies) lines containing the mass, position and velocity (7 values per line). The header contains **n,eta,deltat,tcrit,eps2,reset**.   Such an input file can be easily created using basic Unix and NEMO tools:"
   ]
  },
  {
   "cell_type": "code",
   "execution_count": 8,
   "id": "30e65f69-09c2-4ece-8e23-eef25839859f",
   "metadata": {},
   "outputs": [
    {
     "name": "stdout",
     "output_type": "stream",
     "text": [
      "Creating initial conditions:\n",
      "----------------------------\n",
      "### nemo Debug Info: m x y z vx vy vz \n",
      "Running nbody0_ff:\n",
      "----------------------\n",
      " Enter n,eta,deltat,tcrit,eps2,reset:\n",
      "      0.20        -1.62     -0.19     -0.08        -0.05     -0.31      0.28         0.0881       1\n",
      "      0.20         3.80     -0.46     -1.16         0.45      0.01      0.11         0.4797       2\n",
      "      0.20        -0.46      0.11      0.43         0.12     -0.21     -0.40         0.0343       3\n",
      "      0.20        -0.63     -0.19      0.36        -0.71      0.55     -0.18         0.0347       4\n",
      "      0.20        -1.08      0.73      0.46         0.19     -0.03      0.20         0.0815       5\n",
      "     time =   0.00  steps =     0 energy =   -0.1811\n",
      "\n",
      "      0.20        -1.46     -0.39      0.26         0.42      0.02      0.36         0.0416       1\n",
      "      0.20         4.23     -0.44     -1.04         0.42      0.02      0.12         0.4820       2\n",
      "      0.20        -1.16      0.06      0.09        -0.99      0.47     -0.08         0.0361       3\n",
      "      0.20        -0.82      0.44      0.27        -0.17      0.24      0.53         0.0099       4\n",
      "      0.20        -0.79      0.34      0.42         0.31     -0.74     -0.93         0.0102       5\n",
      "     time =   1.00  steps =   125 energy =   -0.1811\n",
      "\n",
      "      0.20        -0.78      0.04      0.34         0.81      0.48     -0.69         0.0195       1\n",
      "      0.20         4.64     -0.42     -0.92         0.40      0.02      0.12         1.0269       2\n",
      "      0.20        -1.72      0.42      0.23        -0.13      0.21      0.20         0.0713       3\n",
      "      0.20        -1.00     -0.24      0.26        -0.63     -0.18      0.10         0.0182       4\n",
      "      0.20        -1.13      0.20      0.09        -0.45     -0.53      0.27         0.0287       5\n",
      "     time =   2.00  steps =   315 energy =   -0.1811\n",
      "\n",
      "      0.20        -0.45      0.38     -0.35         0.10      0.26     -0.61         0.1075       1\n",
      "      0.20         5.03     -0.40     -0.80         0.38      0.02      0.13         0.3865       2\n",
      "      0.20        -1.52      0.29      0.41         0.38     -1.05      0.39         0.0058       3\n",
      "      0.20        -1.59      0.18      0.47        -0.46      0.88     -0.01         0.0054       4\n",
      "      0.20        -1.46     -0.45      0.26        -0.39     -0.12      0.10         0.0506       5\n",
      "     time =   3.00  steps =   698 energy =   -0.1812\n",
      "\n",
      "      0.20        -0.44      0.61     -0.88        -0.05      0.20     -0.47         0.1462       1\n",
      "      0.20         5.40     -0.38     -0.67         0.36      0.02      0.13         0.5662       2\n",
      "      0.20        -1.85     -0.03      0.57         0.25     -0.92     -0.57         0.0021       3\n",
      "      0.20        -1.29     -0.10      0.47        -0.18     -0.60      0.10         0.0471       4\n",
      "      0.20        -1.82     -0.09      0.51        -0.38      1.29      0.81         0.0021       5\n",
      "     time =   4.00  steps =   900 energy =   -0.1812\n",
      "\n",
      "      0.20        -0.52      0.78     -1.30        -0.11      0.15     -0.37         0.2659       1\n",
      "      0.20         5.75     -0.36     -0.54         0.34      0.02      0.13         0.9946       2\n",
      "      0.20        -1.55      0.10      0.38         0.19     -0.21      0.23         0.0519       3\n",
      "      0.20        -1.92     -0.34      0.64        -0.70      0.38      0.45         0.0204       4\n",
      "      0.20        -1.76     -0.18      0.82         0.28     -0.34     -0.43         0.0196       5\n",
      "     time =   5.00  steps =  1186 energy =   -0.1812\n",
      "\n",
      "      0.20        -0.65      0.91     -1.63        -0.15      0.11     -0.30         0.1796       1\n",
      "      0.20         6.08     -0.33     -0.41         0.33      0.03      0.13         0.5089       2\n",
      "      0.20        -1.94     -0.36      0.78        -0.87     -0.07      0.06         0.0333       3\n",
      "      0.20        -1.66     -0.04      0.74         0.48     -0.39     -0.55         0.0164       4\n",
      "      0.20        -1.83     -0.18      0.52         0.21      0.32      0.66         0.0171       5\n",
      "     time =   6.00  steps =  1315 energy =   -0.1812\n",
      "\n",
      "      0.20        -0.81      1.01     -1.90        -0.17      0.09     -0.24         0.4639       1\n",
      "      0.20         6.40     -0.31     -0.28         0.32      0.03      0.13         1.2083       2\n",
      "      0.20        -2.15     -0.32      0.85        -0.53     -0.10      0.36         0.0245       3\n",
      "      0.20        -2.14     -0.09      0.61         0.20      0.27     -0.17         0.0233       4\n",
      "      0.20        -1.30     -0.29      0.72         0.18     -0.29     -0.08         0.0595       5\n",
      "     time =   7.00  steps =  1590 energy =   -0.1812\n",
      "\n",
      "      0.20        -0.98      1.08     -2.12        -0.18      0.06     -0.19         0.3726       1\n",
      "      0.20         6.71     -0.28     -0.15         0.30      0.03      0.13         1.7834       2\n",
      "      0.20        -2.31     -0.11      0.81         0.55      0.32     -0.32         0.0143       3\n",
      "      0.20        -2.08     -0.17      0.82        -0.44     -0.26      0.45         0.0139       4\n",
      "      0.20        -1.33     -0.52      0.63        -0.23     -0.15     -0.07         0.1313       5\n",
      "     time =   8.00  steps =  1655 energy =   -0.1812\n",
      "\n",
      "      0.20        -1.17      1.14     -2.29        -0.19      0.04     -0.15         0.4863       1\n",
      "      0.20         7.01     -0.25     -0.01         0.29      0.03      0.13         1.7834       2\n",
      "      0.20        -2.15     -0.28      0.95         0.14      0.10     -0.26         0.0380       3\n",
      "      0.20        -1.90     -0.08      0.72         0.48     -0.44      0.15         0.0293       4\n",
      "      0.20        -1.79     -0.52      0.63        -0.73      0.26      0.13         0.0289       5\n",
      "     time =   9.00  steps =  1802 energy =   -0.1812\n",
      "\n",
      "      0.20        -1.36      1.17     -2.42        -0.20      0.02     -0.10         0.5768       1\n",
      "      0.20         7.30     -0.23      0.12         0.28      0.03      0.13         0.9696       2\n",
      "      0.20        -2.39     -0.46      0.73        -0.23      0.08     -0.43         0.0119       3\n",
      "      0.20        -2.23     -0.47      0.72        -0.73     -0.27      0.38         0.0106       4\n",
      "      0.20        -1.32     -0.02      0.85         0.87      0.14      0.02         0.0620       5\n",
      "     time =  10.00  steps =  2351 energy =   -0.1813\n",
      "\n",
      "Running nbody0 to compare:\n",
      "------------------------------\n",
      "### nemo Debug Info: time = 0   steps = 0   energy = -0.181136 cpu =          0 min\n",
      "### nemo Debug Info: time = 1   steps = 125   energy = -0.18114 cpu =          0 min\n",
      "### nemo Debug Info: Using timefuzz=1e-05\n",
      "### nemo Debug Info: time = 2   steps = 315   energy = -0.181137 cpu =          0 min\n",
      "### nemo Debug Info: x y z vx vy vz \n",
      "### nemo Debug Info: time = 3   steps = 698   energy = -0.181227 cpu =          0 min\n",
      "### nemo Debug Info: time = 4   steps = 900   energy = -0.181224 cpu =          0 min\n",
      "### nemo Debug Info: time = 5   steps = 1186   energy = -0.181229 cpu =          0 min\n",
      "### nemo Debug Info: time = 6   steps = 1315   energy = -0.181232 cpu =          0 min\n",
      "### nemo Debug Info: time = 7   steps = 1590   energy = -0.181231 cpu =          0 min\n",
      "### nemo Debug Info: time = 8   steps = 1655   energy = -0.181234 cpu =          0 min\n",
      "### nemo Debug Info: time = 9   steps = 1802   energy = -0.181237 cpu =          0 min\n",
      "### nemo Debug Info: time = 10   steps = 2351   energy = -0.181269 cpu =          0 min\n",
      "### nemo Debug Info: time = 10\tnpart =   1\tndiag =   0\toutputing particles\n",
      "### nemo Debug Info: copy_item: 4\n",
      "### nemo Debug Info: copy_item: 8\n",
      "### nemo Debug Info: copy_item: 4\n",
      "### nemo Debug Info: copy_item: 40\n",
      "### nemo Debug Info: copy_item: 240\n",
      "-1.36279 1.16632 -2.41738 -0.19854 0.021288 -0.104094 \n",
      "7.29869 -0.227201 0.116816 0.283669 0.0275029 0.13166 \n",
      "-2.38877 -0.457732 0.726767 -0.227988 0.0829789 -0.433205 \n",
      "-2.22922 -0.465448 0.721034 -0.727559 -0.272988 0.382557 \n",
      "-1.31639 -0.0168633 0.85151 0.87065 0.141302 0.0230623 \n"
     ]
    }
   ],
   "source": [
    "# create a fresh Plummer sphere with 5 particles, again with a fixed seed\n",
    "echo \"Creating initial conditions:\"\n",
    "echo \"----------------------------\"\n",
    "rm -f p5\n",
    "mkplummer p5 5 seed=123\n",
    "\n",
    "# convert the snapshot to the input file that nbody0_ff needs\n",
    "echo \"5 0.02 1.0 10 0.0001 1\"               > input5\n",
    "snapprint p5 m,x,y,z,vx,vy,vz format=%.15g >> input5\n",
    "\n",
    "# run nbody0_ff\n",
    "echo \"Running nbody0_ff:\"\n",
    "echo \"----------------------\"\n",
    "nbody0_ff < input5 \n",
    "\n",
    "# run nbody0, and compare the phase space coordinates at times=10\n",
    "echo \"Running nbody0 to compare:\"\n",
    "echo \"------------------------------\"\n",
    "nbody0 p5 - deltat=1 eps=0.01 tcrit=10 | snaptrim - - times=10 | snapprint -"
   ]
  },
  {
   "cell_type": "markdown",
   "id": "2fcca10f-1e5d-4977-a1bb-0f975f3e55a8",
   "metadata": {},
   "source": [
    "Did you see something like this for the final positions and velocities of the 5 particles?\n",
    "```\n",
    "-1.36279 1.16632 -2.41738 -0.19854 0.021288 -0.104094 \n",
    "7.29869 -0.227201 0.116816 0.283669 0.0275029 0.13166 \n",
    "-2.38877 -0.457732 0.726767 -0.227988 0.0829789 -0.433205 \n",
    "-2.22922 -0.465448 0.721034 -0.727559 -0.272988 0.382557 \n",
    "-1.31639 -0.0168633 0.85151 0.87065 0.141302 0.0230623\n",
    "```\n",
    "if so, then it's reproducable."
   ]
  },
  {
   "cell_type": "markdown",
   "id": "82c27183-5e94-43d2-b4c2-2b44a93c610e",
   "metadata": {},
   "source": [
    "### Comparing nbody0 and nbody0_ff\n",
    "\n",
    "Apart from the limited accuracy that `nbody0_ff` shows, the comparison is excellent, as well as number of steps taken and the energy in the final snapshot:\n",
    "```\n",
    "     time = 10   steps = 2351   energy = -0.181269\n",
    "```"
   ]
  },
  {
   "cell_type": "markdown",
   "id": "9b5211dd-2ea0-4b6b-8969-624b8fbbe2f0",
   "metadata": {},
   "source": [
    "## Evolution of a Plummer Sphere\n",
    "\n",
    "Here we evolve the Plummer sphere for several dynamical times. This should take about 10 seconds for a default softening `eps=0.05`. For an Aarseth code increasing the softening will make the code run faster!l See if you can understand this."
   ]
  },
  {
   "cell_type": "code",
   "execution_count": 9,
   "id": "73f2b8d3-d198-4355-801f-d10d37cd25d8",
   "metadata": {},
   "outputs": [
    {
     "name": "stdout",
     "output_type": "stream",
     "text": [
      "10.52user 0.39system 0:10.92elapsed 99%CPU (0avgtext+0avgdata 2816maxresident)k\n",
      "0inputs+22688outputs (0major+331minor)pagefaults 0swaps\n"
     ]
    }
   ],
   "source": [
    "rm -f p2048a.dat\n",
    "/usr/bin/time nbody00 in=p2048 out=p2048a.dat tcrit=10 deltat=0.1 eps=0.05 debug=-1"
   ]
  },
  {
   "cell_type": "markdown",
   "id": "40dce6d5-f03e-4446-aee5-7f1998028641",
   "metadata": {},
   "source": [
    "Then we run a program `snapmradii` to compute and then plot the time evolution of the Lagrangian mass radii"
   ]
  },
  {
   "cell_type": "code",
   "execution_count": 10,
   "id": "fb228b76-bd8d-4f72-a07b-62bfba79e739",
   "metadata": {},
   "outputs": [
    {
     "name": "stdout",
     "output_type": "stream",
     "text": [
      "### nemo Debug Info: read 101 points\n",
      "### nemo Debug Info: min and max value in xcolumns 1: [0.000000 : 10.000000]\n",
      "### nemo Debug Info: min and max value in ycolumns 2:11: [0.115023 : 2.277360]\n",
      "### nemo Debug Info: X:min and max value reset to : [-0.500000 : 10.500000]\n",
      "### nemo Debug Info: Y:min and max value reset to : [0.006906 : 2.385477]\n"
     ]
    }
   ],
   "source": [
    "snapmradii p2048a.dat 0.01,0.1:0.9:0.1,0.99 |\\\n",
    "    tabplot - 1 2:11 line=1,1 xlab=time ylab=\"Lagrangian Radii\" yapp=aarseth_fig2.png/png"
   ]
  },
  {
   "cell_type": "markdown",
   "id": "087f0ec9-1cfc-4eec-ac1a-5e9074c8ebfd",
   "metadata": {},
   "source": [
    "Plot of time evolution of the lagrangian mass radii for a 2048 Plummer sphere. It is comforting to see that the inner 1% of the particles do not seem to evolve. Maybe a slight indication the 99% mass radius contracts a tiny bit. But in between some oscillation on a dynamical timescale seem present that move outwards.  Experimenting with larger softening will give a different picture, and show that the sphere is expanding in an oscillating way, presumably to find a different equilibrium shape. \n",
    "\n",
    "A table was created with [snapmradii](https://teuben.github.io/nemo/man_html/snapmradii.1.html), the data were piped into the plotting program [tabplot](https://teuben.github.io/nemo/man_html/tabplot.1.html)\n",
    "\n",
    "![lag radii](aarseth_fig2.png)"
   ]
  },
  {
   "cell_type": "code",
   "execution_count": null,
   "id": "85be2cba-639e-40cb-a3ee-26d13f7325a2",
   "metadata": {},
   "outputs": [],
   "source": []
  }
 ],
 "metadata": {
  "kernelspec": {
   "display_name": "Bash",
   "language": "bash",
   "name": "bash"
  },
  "language_info": {
   "codemirror_mode": "shell",
   "file_extension": ".sh",
   "mimetype": "text/x-sh",
   "name": "bash"
  }
 },
 "nbformat": 4,
 "nbformat_minor": 5
}
